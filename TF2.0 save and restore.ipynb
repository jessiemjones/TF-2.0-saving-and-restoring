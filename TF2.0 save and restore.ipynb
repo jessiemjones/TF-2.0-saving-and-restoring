{
 "cells": [
  {
   "cell_type": "code",
   "execution_count": 1,
   "metadata": {},
   "outputs": [
    {
     "data": {
      "text/plain": [
       "'2.0.0-alpha0'"
      ]
     },
     "execution_count": 1,
     "metadata": {},
     "output_type": "execute_result"
    }
   ],
   "source": [
    "from __future__ import absolute_import, division, print_function, unicode_literals\n",
    "\n",
    "import os\n",
    "\n",
    "import tensorflow as tf\n",
    "from tensorflow import keras\n",
    "\n",
    "tf.__version__"
   ]
  },
  {
   "cell_type": "code",
   "execution_count": 3,
   "metadata": {},
   "outputs": [],
   "source": [
    "(train_images, train_labels), (test_images, test_labels) = tf.keras.datasets.mnist.load_data()\n",
    "\n",
    "train_labels = train_labels[:1000]\n",
    "test_labels = test_labels[:1000]\n",
    "\n",
    "train_images = train_images[:1000].reshape(-1, 28 * 28) / 255.0\n",
    "test_images = test_images[:1000].reshape(-1, 28 * 28) / 255.0"
   ]
  },
  {
   "cell_type": "markdown",
   "metadata": {},
   "source": [
    "##### Build model to be saved and loaded"
   ]
  },
  {
   "cell_type": "code",
   "execution_count": 6,
   "metadata": {},
   "outputs": [
    {
     "name": "stdout",
     "output_type": "stream",
     "text": [
      "Model: \"sequential_2\"\n",
      "_________________________________________________________________\n",
      "Layer (type)                 Output Shape              Param #   \n",
      "=================================================================\n",
      "dense_4 (Dense)              (None, 512)               401920    \n",
      "_________________________________________________________________\n",
      "dropout_2 (Dropout)          (None, 512)               0         \n",
      "_________________________________________________________________\n",
      "dense_5 (Dense)              (None, 10)                5130      \n",
      "=================================================================\n",
      "Total params: 407,050\n",
      "Trainable params: 407,050\n",
      "Non-trainable params: 0\n",
      "_________________________________________________________________\n"
     ]
    }
   ],
   "source": [
    "def create_model():\n",
    "    model = tf.keras.models.Sequential([\n",
    "        keras.layers.Dense(512, activation='relu', input_shape=(784,)),\n",
    "        keras.layers.Dropout(0.2),\n",
    "        keras.layers.Dense(10, activation='softmax')\n",
    "    ])\n",
    "    \n",
    "    model.compile(optimizer='adam',\n",
    "                 loss='sparse_categorical_crossentropy',\n",
    "                 metrics=['accuracy'])\n",
    "    return model\n",
    "\n",
    "model = create_model()\n",
    "model.summary()"
   ]
  },
  {
   "cell_type": "markdown",
   "metadata": {},
   "source": [
    "###### tf.keras.callbacks.ModelCheckpoint  is a callback that you can use to save checkpoints DURING and at the END of training."
   ]
  },
  {
   "cell_type": "code",
   "execution_count": 7,
   "metadata": {
    "collapsed": true
   },
   "outputs": [
    {
     "name": "stdout",
     "output_type": "stream",
     "text": [
      "Train on 1000 samples, validate on 1000 samples\n",
      "Epoch 1/10\n",
      " 864/1000 [========================>.....] - ETA: 0s - loss: 1.2416 - accuracy: 0.6389\n",
      "Epoch 00001: saving model to training_1/cp.ckpt\n",
      "1000/1000 [==============================] - 1s 774us/sample - loss: 1.1617 - accuracy: 0.6600 - val_loss: 0.7059 - val_accuracy: 0.7900\n",
      "Epoch 2/10\n",
      " 928/1000 [==========================>...] - ETA: 0s - loss: 0.4369 - accuracy: 0.8782\n",
      "Epoch 00002: saving model to training_1/cp.ckpt\n",
      "1000/1000 [==============================] - 0s 313us/sample - loss: 0.4285 - accuracy: 0.8800 - val_loss: 0.5511 - val_accuracy: 0.8310\n",
      "Epoch 3/10\n",
      " 928/1000 [==========================>...] - ETA: 0s - loss: 0.2783 - accuracy: 0.9321\n",
      "Epoch 00003: saving model to training_1/cp.ckpt\n",
      "1000/1000 [==============================] - 0s 318us/sample - loss: 0.2777 - accuracy: 0.9310 - val_loss: 0.4653 - val_accuracy: 0.8500\n",
      "Epoch 4/10\n",
      " 896/1000 [=========================>....] - ETA: 0s - loss: 0.2054 - accuracy: 0.9487\n",
      "Epoch 00004: saving model to training_1/cp.ckpt\n",
      "1000/1000 [==============================] - 0s 329us/sample - loss: 0.2042 - accuracy: 0.9490 - val_loss: 0.4387 - val_accuracy: 0.8640\n",
      "Epoch 5/10\n",
      " 896/1000 [=========================>....] - ETA: 0s - loss: 0.1437 - accuracy: 0.9699\n",
      "Epoch 00005: saving model to training_1/cp.ckpt\n",
      "1000/1000 [==============================] - 0s 308us/sample - loss: 0.1453 - accuracy: 0.9710 - val_loss: 0.4280 - val_accuracy: 0.8610\n",
      "Epoch 6/10\n",
      " 960/1000 [===========================>..] - ETA: 0s - loss: 0.1151 - accuracy: 0.9792\n",
      "Epoch 00006: saving model to training_1/cp.ckpt\n",
      "1000/1000 [==============================] - 0s 339us/sample - loss: 0.1155 - accuracy: 0.9790 - val_loss: 0.4434 - val_accuracy: 0.8620\n",
      "Epoch 7/10\n",
      " 960/1000 [===========================>..] - ETA: 0s - loss: 0.0829 - accuracy: 0.9885\n",
      "Epoch 00007: saving model to training_1/cp.ckpt\n",
      "1000/1000 [==============================] - 0s 323us/sample - loss: 0.0881 - accuracy: 0.9870 - val_loss: 0.4347 - val_accuracy: 0.8600\n",
      "Epoch 8/10\n",
      " 928/1000 [==========================>...] - ETA: 0s - loss: 0.0637 - accuracy: 0.9914\n",
      "Epoch 00008: saving model to training_1/cp.ckpt\n",
      "1000/1000 [==============================] - 0s 347us/sample - loss: 0.0608 - accuracy: 0.9920 - val_loss: 0.4057 - val_accuracy: 0.8680\n",
      "Epoch 9/10\n",
      " 960/1000 [===========================>..] - ETA: 0s - loss: 0.0512 - accuracy: 0.9979\n",
      "Epoch 00009: saving model to training_1/cp.ckpt\n",
      "1000/1000 [==============================] - 0s 299us/sample - loss: 0.0515 - accuracy: 0.9980 - val_loss: 0.4090 - val_accuracy: 0.8700\n",
      "Epoch 10/10\n",
      " 960/1000 [===========================>..] - ETA: 0s - loss: 0.0387 - accuracy: 0.9979\n",
      "Epoch 00010: saving model to training_1/cp.ckpt\n",
      "1000/1000 [==============================] - 0s 298us/sample - loss: 0.0384 - accuracy: 0.9980 - val_loss: 0.4340 - val_accuracy: 0.8620\n"
     ]
    },
    {
     "data": {
      "text/plain": [
       "<tensorflow.python.keras.callbacks.History at 0x173905a6278>"
      ]
     },
     "execution_count": 7,
     "metadata": {},
     "output_type": "execute_result"
    }
   ],
   "source": [
    "checkpoint_path = 'training_1/cp.ckpt'\n",
    "checkpoint_dir = os.path.dirname(checkpoint_path)\n",
    "\n",
    "#create checkp callback\n",
    "cp_callback = tf.keras.callbacks.ModelCheckpoint(checkpoint_path,\n",
    "                                                save_weights_only=True,\n",
    "                                                verbose=1)\n",
    "model = create_model()\n",
    "\n",
    "model.fit(train_images, train_labels, epochs=10,\n",
    "         validation_data =(test_images, test_labels),\n",
    "         callbacks =[cp_callback])"
   ]
  },
  {
   "cell_type": "code",
   "execution_count": 10,
   "metadata": {},
   "outputs": [
    {
     "name": "stdout",
     "output_type": "stream",
     "text": [
      " Volume in drive C is OS\n",
      " Volume Serial Number is 9C33-2CCC\n",
      "\n",
      " Directory of C:\\Users\\Jessy\\dev\\machine-learning\\TF 2.0 save and restore\\training_1\n",
      "\n",
      "04/17/2019  09:55 PM    <DIR>          .\n",
      "04/17/2019  09:55 PM    <DIR>          ..\n",
      "04/17/2019  09:55 PM                71 checkpoint\n",
      "04/17/2019  09:55 PM         4,889,870 cp.ckpt.data-00000-of-00001\n",
      "04/17/2019  09:55 PM             1,579 cp.ckpt.index\n",
      "               3 File(s)      4,891,520 bytes\n",
      "               2 Dir(s)  803,331,981,312 bytes free\n"
     ]
    }
   ],
   "source": [
    "ls {checkpoint_dir}"
   ]
  },
  {
   "cell_type": "markdown",
   "metadata": {},
   "source": [
    "##### Creating an untrained model and evaluating on test set."
   ]
  },
  {
   "cell_type": "code",
   "execution_count": 11,
   "metadata": {},
   "outputs": [
    {
     "name": "stdout",
     "output_type": "stream",
     "text": [
      "1000/1000 [==============================] - 0s 112us/sample - loss: 2.3114 - accuracy: 0.1140\n",
      "Untrained model, accuracy: 11.40%\n"
     ]
    }
   ],
   "source": [
    "model = create_model()\n",
    "\n",
    "loss, acc = model.evaluate(test_images, test_labels)\n",
    "print('Untrained model, accuracy: {:5.2f}%'.format(100*acc))"
   ]
  },
  {
   "cell_type": "markdown",
   "metadata": {},
   "source": [
    "##### Now loading weights from checkpoint and evaluating again:"
   ]
  },
  {
   "cell_type": "code",
   "execution_count": 13,
   "metadata": {},
   "outputs": [
    {
     "name": "stdout",
     "output_type": "stream",
     "text": [
      "1000/1000 [==============================] - 0s 37us/sample - loss: 0.4340 - accuracy: 0.8620\n",
      "Restored model, accuarcy: 86.20%\n"
     ]
    }
   ],
   "source": [
    "model.load_weights(checkpoint_path)\n",
    "loss,acc = model.evaluate(test_images, test_labels)\n",
    "print('Restored model, accuarcy: {:5.2f}%'.format(100*acc))"
   ]
  },
  {
   "cell_type": "code",
   "execution_count": 15,
   "metadata": {},
   "outputs": [
    {
     "name": "stdout",
     "output_type": "stream",
     "text": [
      "\n",
      "Epoch 00005: saving model to training_2/cp-0005.ckpt\n",
      "\n",
      "Epoch 00010: saving model to training_2/cp-0010.ckpt\n",
      "\n",
      "Epoch 00015: saving model to training_2/cp-0015.ckpt\n",
      "\n",
      "Epoch 00020: saving model to training_2/cp-0020.ckpt\n",
      "\n",
      "Epoch 00025: saving model to training_2/cp-0025.ckpt\n",
      "\n",
      "Epoch 00030: saving model to training_2/cp-0030.ckpt\n",
      "\n",
      "Epoch 00035: saving model to training_2/cp-0035.ckpt\n",
      "\n",
      "Epoch 00040: saving model to training_2/cp-0040.ckpt\n",
      "\n",
      "Epoch 00045: saving model to training_2/cp-0045.ckpt\n",
      "\n",
      "Epoch 00050: saving model to training_2/cp-0050.ckpt\n"
     ]
    },
    {
     "data": {
      "text/plain": [
       "<tensorflow.python.keras.callbacks.History at 0x173971934e0>"
      ]
     },
     "execution_count": 15,
     "metadata": {},
     "output_type": "execute_result"
    }
   ],
   "source": [
    "checkpoint_path = 'training_2/cp-{epoch:04d}.ckpt'\n",
    "checkpoint_dir = os.path.dirname(checkpoint_path)\n",
    "\n",
    "cp_callback = tf.keras.callbacks.ModelCheckpoint(\n",
    "    checkpoint_path, verbose=1, save_weights_only=True,\n",
    "#saves weight at every 5 epochs\n",
    "    period=5)\n",
    "\n",
    "model = create_model()\n",
    "model.save_weights(checkpoint_path.format(epoch=0))\n",
    "model.fit(train_images, train_labels,\n",
    "         epochs=50, callbacks= [cp_callback],\n",
    "         validation_data = (test_images, test_labels),\n",
    "         verbose=0)"
   ]
  },
  {
   "cell_type": "code",
   "execution_count": 18,
   "metadata": {},
   "outputs": [
    {
     "name": "stdout",
     "output_type": "stream",
     "text": [
      " Volume in drive C is OS\n",
      " Volume Serial Number is 9C33-2CCC\n",
      "\n",
      " Directory of C:\\Users\\Jessy\\dev\\machine-learning\\TF 2.0 save and restore\\training_2\n",
      "\n",
      "04/18/2019  12:02 PM    <DIR>          .\n",
      "04/18/2019  12:02 PM    <DIR>          ..\n",
      "04/18/2019  12:02 PM                81 checkpoint\n",
      "04/18/2019  12:02 PM         1,631,620 cp-0000.ckpt.data-00000-of-00001\n",
      "04/18/2019  12:02 PM               706 cp-0000.ckpt.index\n",
      "04/18/2019  12:02 PM         4,889,915 cp-0005.ckpt.data-00000-of-00001\n",
      "04/18/2019  12:02 PM             1,579 cp-0005.ckpt.index\n",
      "04/18/2019  12:02 PM         4,889,915 cp-0010.ckpt.data-00000-of-00001\n",
      "04/18/2019  12:02 PM             1,579 cp-0010.ckpt.index\n",
      "04/18/2019  12:02 PM         4,889,915 cp-0015.ckpt.data-00000-of-00001\n",
      "04/18/2019  12:02 PM             1,579 cp-0015.ckpt.index\n",
      "04/18/2019  12:02 PM         4,889,915 cp-0020.ckpt.data-00000-of-00001\n",
      "04/18/2019  12:02 PM             1,579 cp-0020.ckpt.index\n",
      "04/18/2019  12:02 PM         4,889,915 cp-0025.ckpt.data-00000-of-00001\n",
      "04/18/2019  12:02 PM             1,579 cp-0025.ckpt.index\n",
      "04/18/2019  12:02 PM         4,889,915 cp-0030.ckpt.data-00000-of-00001\n",
      "04/18/2019  12:02 PM             1,579 cp-0030.ckpt.index\n",
      "04/18/2019  12:02 PM         4,889,915 cp-0035.ckpt.data-00000-of-00001\n",
      "04/18/2019  12:02 PM             1,579 cp-0035.ckpt.index\n",
      "04/18/2019  12:02 PM         4,889,915 cp-0040.ckpt.data-00000-of-00001\n",
      "04/18/2019  12:02 PM             1,579 cp-0040.ckpt.index\n",
      "04/18/2019  12:02 PM         4,889,915 cp-0045.ckpt.data-00000-of-00001\n",
      "04/18/2019  12:02 PM             1,579 cp-0045.ckpt.index\n",
      "04/18/2019  12:02 PM         4,889,915 cp-0050.ckpt.data-00000-of-00001\n",
      "04/18/2019  12:02 PM             1,579 cp-0050.ckpt.index\n",
      "              23 File(s)     50,547,347 bytes\n",
      "               2 Dir(s)  803,279,007,744 bytes free\n"
     ]
    }
   ],
   "source": [
    "ls {checkpoint_dir}"
   ]
  },
  {
   "cell_type": "code",
   "execution_count": 19,
   "metadata": {},
   "outputs": [
    {
     "data": {
      "text/plain": [
       "'training_2\\\\cp-0050.ckpt'"
      ]
     },
     "execution_count": 19,
     "metadata": {},
     "output_type": "execute_result"
    }
   ],
   "source": [
    "latest = tf.train.latest_checkpoint(checkpoint_dir)\n",
    "latest"
   ]
  },
  {
   "cell_type": "markdown",
   "metadata": {},
   "source": [
    "###### **** TF default format is to only save 5 most recent checkpoints****"
   ]
  },
  {
   "cell_type": "code",
   "execution_count": 20,
   "metadata": {},
   "outputs": [
    {
     "name": "stdout",
     "output_type": "stream",
     "text": [
      "1000/1000 [==============================] - 0s 93us/sample - loss: 0.4850 - accuracy: 0.8730\n",
      "restored model, accuracy: 87.30%\n"
     ]
    }
   ],
   "source": [
    "model = create_model()\n",
    "model.load_weights(latest)\n",
    "loss, acc = model.evaluate(test_images, test_labels)\n",
    "print('restored model, accuracy: {:5.2f}%'.format(100*acc))"
   ]
  },
  {
   "cell_type": "markdown",
   "metadata": {},
   "source": [
    "##### Manually saving weights:"
   ]
  },
  {
   "cell_type": "code",
   "execution_count": 21,
   "metadata": {},
   "outputs": [
    {
     "name": "stdout",
     "output_type": "stream",
     "text": [
      "1000/1000 [==============================] - 0s 91us/sample - loss: 0.4850 - accuracy: 0.8730\n",
      "Restored model, accuracy: 87.30%\n"
     ]
    }
   ],
   "source": [
    "model.save_weights('./checkpoints/my_checkpoint')\n",
    "\n",
    "model = create_model()\n",
    "model.load_weights('./checkpoints/my_checkpoint')\n",
    "\n",
    "loss,acc = model.evaluate(test_images, test_labels)\n",
    "print('Restored model, accuracy: {:5.2f}%'.format(100*acc))"
   ]
  },
  {
   "cell_type": "markdown",
   "metadata": {},
   "source": [
    "##### Saving entire model as an HDF5 file:"
   ]
  },
  {
   "cell_type": "markdown",
   "metadata": {},
   "source": [
    "You can save a fully functional model, then load in TF.js, then train and run them in web browsers, or convert to run on mobile with TF Lite"
   ]
  },
  {
   "cell_type": "code",
   "execution_count": 22,
   "metadata": {},
   "outputs": [
    {
     "name": "stdout",
     "output_type": "stream",
     "text": [
      "Epoch 1/5\n",
      "1000/1000 [==============================] - 0s 214us/sample - loss: 1.1620 - accuracy: 0.6740\n",
      "Epoch 2/5\n",
      "1000/1000 [==============================] - 0s 109us/sample - loss: 0.4109 - accuracy: 0.8950\n",
      "Epoch 3/5\n",
      "1000/1000 [==============================] - 0s 107us/sample - loss: 0.2716 - accuracy: 0.9340\n",
      "Epoch 4/5\n",
      "1000/1000 [==============================] - 0s 105us/sample - loss: 0.2081 - accuracy: 0.9560\n",
      "Epoch 5/5\n",
      "1000/1000 [==============================] - 0s 109us/sample - loss: 0.1536 - accuracy: 0.9660\n"
     ]
    }
   ],
   "source": [
    "model = create_model()\n",
    "\n",
    "model.fit(train_images, train_labels, epochs=5)\n",
    "\n",
    "#save entire model to HDF5 file:\n",
    "model.save('my_model.h5')"
   ]
  },
  {
   "cell_type": "markdown",
   "metadata": {},
   "source": [
    "##### Recreating the model from that ^ file:"
   ]
  },
  {
   "cell_type": "code",
   "execution_count": 23,
   "metadata": {},
   "outputs": [
    {
     "name": "stdout",
     "output_type": "stream",
     "text": [
      "Model: \"sequential_8\"\n",
      "_________________________________________________________________\n",
      "Layer (type)                 Output Shape              Param #   \n",
      "=================================================================\n",
      "dense_16 (Dense)             (None, 512)               401920    \n",
      "_________________________________________________________________\n",
      "dropout_8 (Dropout)          (None, 512)               0         \n",
      "_________________________________________________________________\n",
      "dense_17 (Dense)             (None, 10)                5130      \n",
      "=================================================================\n",
      "Total params: 407,050\n",
      "Trainable params: 407,050\n",
      "Non-trainable params: 0\n",
      "_________________________________________________________________\n"
     ]
    }
   ],
   "source": [
    "new_model = keras.models.load_model('my_model.h5')\n",
    "new_model.summary()"
   ]
  },
  {
   "cell_type": "code",
   "execution_count": 24,
   "metadata": {},
   "outputs": [
    {
     "name": "stdout",
     "output_type": "stream",
     "text": [
      "1000/1000 [==============================] - 0s 94us/sample - loss: 0.4351 - accuracy: 0.8630\n",
      "Restored mode, accuracy: 86.30%\n"
     ]
    }
   ],
   "source": [
    "loss, acc = new_model.evaluate(test_images, test_labels)\n",
    "print('Restored mode, accuracy: {:5.2f}%'.format(100*acc))"
   ]
  },
  {
   "cell_type": "markdown",
   "metadata": {},
   "source": [
    "This technique saves everything..  Weight values, model architecture, and optimizer config.  **CURRENTLY CANNOT SAVE TF OPTIMIZERS (tf.train)**\n",
    "When using those ^, you need to recompile the model after loading and will lose state of optimizer."
   ]
  },
  {
   "cell_type": "markdown",
   "metadata": {},
   "source": [
    "##### Build a freshy:"
   ]
  },
  {
   "cell_type": "code",
   "execution_count": 25,
   "metadata": {},
   "outputs": [
    {
     "name": "stdout",
     "output_type": "stream",
     "text": [
      "Epoch 1/5\n",
      "1000/1000 [==============================] - 0s 219us/sample - loss: 1.1464 - accuracy: 0.6800\n",
      "Epoch 2/5\n",
      "1000/1000 [==============================] - 0s 109us/sample - loss: 0.4015 - accuracy: 0.8940\n",
      "Epoch 3/5\n",
      "1000/1000 [==============================] - 0s 112us/sample - loss: 0.2846 - accuracy: 0.9340\n",
      "Epoch 4/5\n",
      "1000/1000 [==============================] - 0s 144us/sample - loss: 0.1906 - accuracy: 0.9580\n",
      "Epoch 5/5\n",
      "1000/1000 [==============================] - 0s 118us/sample - loss: 0.1486 - accuracy: 0.9700\n"
     ]
    },
    {
     "data": {
      "text/plain": [
       "<tensorflow.python.keras.callbacks.History at 0x1739aa49ac8>"
      ]
     },
     "execution_count": 25,
     "metadata": {},
     "output_type": "execute_result"
    }
   ],
   "source": [
    "model = create_model()\n",
    "\n",
    "model.fit(train_images, train_labels, epochs=5)"
   ]
  },
  {
   "cell_type": "code",
   "execution_count": 26,
   "metadata": {},
   "outputs": [
    {
     "name": "stderr",
     "output_type": "stream",
     "text": [
      "WARNING: Logging before flag parsing goes to stderr.\n",
      "W0418 12:34:49.216258   624 deprecation.py:323] From C:\\Users\\Jessy\\Anaconda3\\lib\\site-packages\\tensorflow\\python\\saved_model\\signature_def_utils_impl.py:253: build_tensor_info (from tensorflow.python.saved_model.utils_impl) is deprecated and will be removed in a future version.\n",
      "Instructions for updating:\n",
      "This function will only be available through the v1 compatibility library as tf.compat.v1.saved_model.utils.build_tensor_info or tf.compat.v1.saved_model.build_tensor_info.\n",
      "W0418 12:34:49.217267   624 tf_logging.py:161] Export includes no default signature!\n",
      "W0418 12:34:49.800121   624 tf_logging.py:161] Export includes no default signature!\n"
     ]
    },
    {
     "data": {
      "text/plain": [
       "'./saved_models/1555612487'"
      ]
     },
     "execution_count": 26,
     "metadata": {},
     "output_type": "execute_result"
    }
   ],
   "source": [
    "import time\n",
    "saved_model_path = './saved_models/{}'.format(int(time.time()))\n",
    "\n",
    "tf.keras.experimental.export_saved_model(model, saved_model_path)\n",
    "saved_model_path"
   ]
  },
  {
   "cell_type": "markdown",
   "metadata": {},
   "source": [
    "##### List of saved models:"
   ]
  },
  {
   "cell_type": "code",
   "execution_count": 28,
   "metadata": {},
   "outputs": [
    {
     "name": "stdout",
     "output_type": "stream",
     "text": [
      " Volume in drive C is OS\n",
      " Volume Serial Number is 9C33-2CCC\n",
      "\n",
      " Directory of C:\\Users\\Jessy\\dev\\machine-learning\\TF 2.0 save and restore\\saved_models\n",
      "\n",
      "04/18/2019  12:34 PM    <DIR>          .\n",
      "04/18/2019  12:34 PM    <DIR>          ..\n",
      "04/18/2019  12:34 PM    <DIR>          1555612487\n",
      "               0 File(s)              0 bytes\n",
      "               3 Dir(s)  803,269,509,120 bytes free\n"
     ]
    }
   ],
   "source": [
    "ls saved_models"
   ]
  },
  {
   "cell_type": "markdown",
   "metadata": {},
   "source": [
    "##### Reload a fresh keras model from saved model:"
   ]
  },
  {
   "cell_type": "code",
   "execution_count": 29,
   "metadata": {},
   "outputs": [
    {
     "name": "stdout",
     "output_type": "stream",
     "text": [
      "Model: \"sequential_9\"\n",
      "_________________________________________________________________\n",
      "Layer (type)                 Output Shape              Param #   \n",
      "=================================================================\n",
      "dense_18 (Dense)             (None, 512)               401920    \n",
      "_________________________________________________________________\n",
      "dropout_9 (Dropout)          (None, 512)               0         \n",
      "_________________________________________________________________\n",
      "dense_19 (Dense)             (None, 10)                5130      \n",
      "=================================================================\n",
      "Total params: 407,050\n",
      "Trainable params: 407,050\n",
      "Non-trainable params: 0\n",
      "_________________________________________________________________\n"
     ]
    }
   ],
   "source": [
    "new_model = tf.keras.experimental.load_from_saved_model(saved_model_path)\n",
    "new_model.summary()"
   ]
  },
  {
   "cell_type": "code",
   "execution_count": 30,
   "metadata": {},
   "outputs": [
    {
     "data": {
      "text/plain": [
       "(1000, 10)"
      ]
     },
     "execution_count": 30,
     "metadata": {},
     "output_type": "execute_result"
    }
   ],
   "source": [
    "model.predict(test_images).shape"
   ]
  },
  {
   "cell_type": "code",
   "execution_count": 32,
   "metadata": {},
   "outputs": [
    {
     "name": "stdout",
     "output_type": "stream",
     "text": [
      "1000/1000 [==============================] - 0s 89us/sample - loss: 0.4085 - accuracy: 0.8670\n",
      "Restored model, accuracy: 86.70%\n"
     ]
    }
   ],
   "source": [
    "#have to compile model before evaluation\n",
    "#not required if it's only being deployed\n",
    "new_model.compile(optimizer=model.optimizer, #keep loaded optimizer\n",
    "                 loss='sparse_categorical_crossentropy',\n",
    "                 metrics=['accuracy'])\n",
    "\n",
    "loss, acc = new_model.evaluate(test_images, test_labels)\n",
    "print('Restored model, accuracy: {:5.2f}%'.format(100*acc))"
   ]
  },
  {
   "cell_type": "markdown",
   "metadata": {},
   "source": [
    "##### Fin"
   ]
  }
 ],
 "metadata": {
  "kernelspec": {
   "display_name": "Python 3",
   "language": "python",
   "name": "python3"
  },
  "language_info": {
   "codemirror_mode": {
    "name": "ipython",
    "version": 3
   },
   "file_extension": ".py",
   "mimetype": "text/x-python",
   "name": "python",
   "nbconvert_exporter": "python",
   "pygments_lexer": "ipython3",
   "version": "3.6.5"
  }
 },
 "nbformat": 4,
 "nbformat_minor": 2
}
